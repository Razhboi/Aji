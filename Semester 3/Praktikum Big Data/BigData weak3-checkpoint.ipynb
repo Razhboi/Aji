{
 "cells": [
  {
   "cell_type": "code",
   "execution_count": 3,
   "id": "1f1e26db-5074-4550-bdef-4e5761fb8046",
   "metadata": {},
   "outputs": [
    {
     "name": "stdout",
     "output_type": "stream",
     "text": [
      "Hasil : {'Aku': 2, 'adalah': 2, 'dan': 1, 'Kamu': 2}\n"
     ]
    }
   ],
   "source": [
    "from collections import defaultdict\n",
    "def map_function(text):\n",
    "    for word in text.split():\n",
    "        yield(word,1)\n",
    "def reduce_function(pairs):\n",
    "    result= defaultdict(int)\n",
    "    for word, count in pairs:\n",
    "        result[word] += count\n",
    "    return result\n",
    "\n",
    "teks =\"Aku adalah Aku dan Kamu adalah Kamu\"\n",
    "pairs = map_function(teks)\n",
    "hasil = reduce_function(pairs)\n",
    "\n",
    "print(\"Hasil :\", dict (hasil))"
   ]
  },
  {
   "cell_type": "code",
   "execution_count": null,
   "id": "a5236326-e992-44d8-b09e-eb3a5096a22e",
   "metadata": {},
   "outputs": [],
   "source": []
  }
 ],
 "metadata": {
  "kernelspec": {
   "display_name": "Python 3 (ipykernel)",
   "language": "python",
   "name": "python3"
  },
  "language_info": {
   "codemirror_mode": {
    "name": "ipython",
    "version": 3
   },
   "file_extension": ".py",
   "mimetype": "text/x-python",
   "name": "python",
   "nbconvert_exporter": "python",
   "pygments_lexer": "ipython3",
   "version": "3.12.4"
  }
 },
 "nbformat": 4,
 "nbformat_minor": 5
}
