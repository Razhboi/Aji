{
 "cells": [
  {
   "cell_type": "code",
   "execution_count": 1,
   "id": "4ff568db-27f1-420f-8192-c94190091b34",
   "metadata": {},
   "outputs": [],
   "source": [
    "import findspark\n",
    "findspark.init()"
   ]
  },
  {
   "cell_type": "code",
   "execution_count": 19,
   "id": "999be11f-832f-4421-811e-128007a2feaa",
   "metadata": {},
   "outputs": [
    {
     "name": "stdout",
     "output_type": "stream",
     "text": [
      "Menampilkan DataFrame\n",
      "+------+----+-----------------+------+------+\n",
      "|  Nama|Usia|        Pekerjaan|  Hobi|Gender|\n",
      "+------+----+-----------------+------+------+\n",
      "|   Ali|  34|     Admin shopee|  Lari|     L|\n",
      "|  Budi|  23|   Pegawai Swasta|Futsal|     L|\n",
      "| Citra|  29|          Perawat|Hiking|     P|\n",
      "|  Dina|  45|             Guru|Menari|     P|\n",
      "|Noufal|  25|Software Engginer|  Game|     L|\n",
      "+------+----+-----------------+------+------+\n",
      "\n"
     ]
    }
   ],
   "source": [
    "#Tugas 1\n",
    "from pyspark.sql import SparkSession\n",
    "\n",
    "# Memulai Spark session\n",
    "spark = SparkSession.builder.appName(\"BigDataPractice\").getOrCreate()\n",
    "\n",
    "# Membuat DataFrame sederhana\n",
    "data = [(\"Ali\", 34, \"Admin shopee\", \"Lari\", \"L\"), (\"Budi\", 23, \"Pegawai Swasta\", \"Futsal\", \"L\"), (\"Citra\", 29, \"Perawat\", \"Hiking\", \"P\"), (\"Dina\", 45, \"Guru\", \"Menari\", \"P\"),(\"Noufal\",25,\"Software Engginer\",\"Game\",\"L\")]\n",
    "columns = [\"Nama\", \"Usia\", \"Pekerjaan\", \"Hobi\", \"Gender\"]\n",
    "df = spark.createDataFrame(data, columns)\n",
    "\n",
    "# Menampilkan DataFrame\n",
    "print(\"Menampilkan DataFrame\")  \n",
    "df.show()\n"
   ]
  },
  {
   "cell_type": "code",
   "execution_count": 21,
   "id": "b311a252-728c-4f55-b2b0-563a899344e1",
   "metadata": {},
   "outputs": [
    {
     "name": "stdout",
     "output_type": "stream",
     "text": [
      "DataFrame sebelum di fliter\n",
      "+------+----+-----------------+------+------+\n",
      "|  Nama|Usia|        Pekerjaan|  Hobi|Gender|\n",
      "+------+----+-----------------+------+------+\n",
      "|   Ali|  34|     Admin shopee|  Lari|     L|\n",
      "|  Budi|  23|   Pegawai Swasta|Futsal|     L|\n",
      "| Citra|  29|          Perawat|Hiking|     P|\n",
      "|  Dina|  45|             Guru|Menari|     P|\n",
      "|Noufal|  25|Software Engginer|  Game|     L|\n",
      "+------+----+-----------------+------+------+\n",
      "\n",
      "DataFrame sesudah di fliter Usia Lebih dari 30 tahun\n",
      "+----+----+------------+------+------+\n",
      "|Nama|Usia|   Pekerjaan|  Hobi|Gender|\n",
      "+----+----+------------+------+------+\n",
      "| Ali|  34|Admin shopee|  Lari|     L|\n",
      "|Dina|  45|        Guru|Menari|     P|\n",
      "+----+----+------------+------+------+\n",
      "\n",
      "DataFrame sesudah di fliter Usia kurang dari 30 tahun\n",
      "+------+----+-----------------+------+------+\n",
      "|  Nama|Usia|        Pekerjaan|  Hobi|Gender|\n",
      "+------+----+-----------------+------+------+\n",
      "|  Budi|  23|   Pegawai Swasta|Futsal|     L|\n",
      "| Citra|  29|          Perawat|Hiking|     P|\n",
      "|Noufal|  25|Software Engginer|  Game|     L|\n",
      "+------+----+-----------------+------+------+\n",
      "\n",
      "Menghitung rata rata usia\n",
      "+---------+\n",
      "|avg(Usia)|\n",
      "+---------+\n",
      "|     31.2|\n",
      "+---------+\n",
      "\n"
     ]
    }
   ],
   "source": [
    "import pandas as pd\n",
    "\n",
    "# Membuat DataFrame Pandas\n",
    "data_pandas = {\"Nama\": [\"Ali\", \"Budi\", \"Citra\", \"Dina\",\"Noufal\"], \"Usia\": [34, 23, 29, 45,25]}\n",
    "print(\"DataFrame sebelum di fliter\")  \n",
    "df_pandas = pd.DataFrame(data_pandas)\n",
    "df.show()\n",
    "\n",
    "# Menampilkan DataFrame Pandas\n",
    "df_pandas\n",
    "\n",
    "# Filtering data\n",
    "df_filtered = df.filter(df['Usia'] > 30)\n",
    "print(\"DataFrame sesudah di fliter Usia Lebih dari 30 tahun\")  \n",
    "df_filtered.show()\n",
    "\n",
    "df_filtered = df.filter(df['Usia'] < 30)\n",
    "print(\"DataFrame sesudah di fliter Usia kurang dari 30 tahun\")  \n",
    "df_filtered.show()\n",
    "\n",
    "# Menghitung rata-rata usia\n",
    "from pyspark.sql.functions import avg\n",
    "print(\"Menghitung rata rata usia\")\n",
    "df.groupBy().agg(avg(\"Usia\")).show()\n",
    " "
   ]
  },
  {
   "cell_type": "code",
   "execution_count": 22,
   "id": "1bcf2240-2972-4cbd-8c02-62f3f71e9990",
   "metadata": {},
   "outputs": [
    {
     "name": "stdout",
     "output_type": "stream",
     "text": [
      "Data sebelum di filter\n",
      "     Nama  Usia       Asal\n",
      "0     Ali    34    Jakarta\n",
      "1    Budi    23  Pekanbaru\n",
      "2   Citra    29   Sumedang\n",
      "3    Dina    45     Banjar\n",
      "4  Noufal    20   Magelang\n",
      "\n",
      "Filtering data berdasarkan usia\n"
     ]
    },
    {
     "data": {
      "text/html": [
       "<div>\n",
       "<style scoped>\n",
       "    .dataframe tbody tr th:only-of-type {\n",
       "        vertical-align: middle;\n",
       "    }\n",
       "\n",
       "    .dataframe tbody tr th {\n",
       "        vertical-align: top;\n",
       "    }\n",
       "\n",
       "    .dataframe thead th {\n",
       "        text-align: right;\n",
       "    }\n",
       "</style>\n",
       "<table border=\"1\" class=\"dataframe\">\n",
       "  <thead>\n",
       "    <tr style=\"text-align: right;\">\n",
       "      <th></th>\n",
       "      <th>Nama</th>\n",
       "      <th>Usia</th>\n",
       "      <th>Asal</th>\n",
       "    </tr>\n",
       "  </thead>\n",
       "  <tbody>\n",
       "    <tr>\n",
       "      <th>1</th>\n",
       "      <td>Budi</td>\n",
       "      <td>23</td>\n",
       "      <td>Pekanbaru</td>\n",
       "    </tr>\n",
       "    <tr>\n",
       "      <th>2</th>\n",
       "      <td>Citra</td>\n",
       "      <td>29</td>\n",
       "      <td>Sumedang</td>\n",
       "    </tr>\n",
       "    <tr>\n",
       "      <th>4</th>\n",
       "      <td>Noufal</td>\n",
       "      <td>20</td>\n",
       "      <td>Magelang</td>\n",
       "    </tr>\n",
       "  </tbody>\n",
       "</table>\n",
       "</div>"
      ],
      "text/plain": [
       "     Nama  Usia       Asal\n",
       "1    Budi    23  Pekanbaru\n",
       "2   Citra    29   Sumedang\n",
       "4  Noufal    20   Magelang"
      ]
     },
     "execution_count": 22,
     "metadata": {},
     "output_type": "execute_result"
    }
   ],
   "source": [
    "import pandas as pd\n",
    "\n",
    "# Membuat DataFrame Pandas\n",
    "data_pandas = {\"Nama\": [\"Ali\", \"Budi\", \"Citra\", \"Dina\",\"Noufal\"], \"Usia\": [34, 23, 29, 45,20],\"Asal\":[\"Jakarta\",\"Pekanbaru\",\"Sumedang\",\"Banjar\",\"Magelang\"]}\n",
    "df_pandas = pd.DataFrame(data_pandas)\n",
    "\n",
    "#menampilkan data sebelum difiltering\n",
    "print(\"Data sebelum di filter\")\n",
    "print(df_pandas)\n",
    "print()\n",
    "\n",
    "#filtering berdasarkan usia\n",
    "print(\"Filtering data berdasarkan usia\")\n",
    "df_filter = df_pandas[df_pandas[\"Usia\"] < 30]\n",
    "\n",
    "# Menampilkan DataFrame Pandas\n",
    "df_filter = pd.DataFrame(df_filter)\n",
    "df_filter"
   ]
  },
  {
   "cell_type": "code",
   "execution_count": 23,
   "id": "d1b7d0e0-b074-49dc-bcec-2244d4b5e10c",
   "metadata": {},
   "outputs": [
    {
     "name": "stdout",
     "output_type": "stream",
     "text": [
      "DataFrame setelah penggabungan:\n",
      "    Nama  Usia Pekerjaan\n",
      "0    Ali    34    Dokter\n",
      "1   Budi    23      Guru\n",
      "2  Citra    29  Insinyur\n",
      "3   Dina    45   Perawat\n",
      "\n",
      "Statistik deskriptif Usia:\n",
      "            Usia\n",
      "count   4.000000\n",
      "mean   32.750000\n",
      "std     9.322911\n",
      "min    23.000000\n",
      "25%    27.500000\n",
      "50%    31.500000\n",
      "75%    36.750000\n",
      "max    45.000000\n"
     ]
    },
    {
     "data": {
      "image/png": "[encoded data removed]",
      "text/plain": [
       "<Figure size 1000x500 with 2 Axes>"
      ]
     },
     "metadata": {},
     "output_type": "display_data"
    }
   ],
   "source": [
    "import pandas as pd  \n",
    "import matplotlib.pyplot as plt  \n",
    "\n",
    "# Membuat DataFrame Pandas pertama  \n",
    "data_pandas = {  \n",
    "    \"Nama\": [\"Ali\", \"Budi\", \"Citra\", \"Dina\"],  \n",
    "    \"Usia\": [34, 23, 29, 45]  \n",
    "}  \n",
    "df_pandas = pd.DataFrame(data_pandas)  \n",
    "\n",
    "# Membuat DataFrame Pandas kedua  \n",
    "data_pandas_2 = {  \n",
    "    \"Nama\": [\"Ali\", \"Budi\", \"Citra\", \"Dina\"],  \n",
    "    \"Pekerjaan\": [\"Dokter\", \"Guru\", \"Insinyur\", \"Perawat\"]  \n",
    "}  \n",
    "df_pandas_2 = pd.DataFrame(data_pandas_2)  \n",
    "\n",
    "# Menggabungkan kedua DataFrame  \n",
    "df_joined = pd.merge(df_pandas, df_pandas_2, on=\"Nama\")  \n",
    "print(\"DataFrame setelah penggabungan:\")  \n",
    "print(df_joined)  \n",
    "\n",
    "# Menghitung statistik deskriptif  \n",
    "print(\"\\nStatistik deskriptif Usia:\")  \n",
    "print(df_pandas.describe())  \n",
    "\n",
    "# Visualisasi data  \n",
    "plt.figure(figsize=(10, 5))  \n",
    "\n",
    "# Plot usia  \n",
    "plt.subplot(1, 2, 1)  # 1 row, 2 columns, 1st subplot  \n",
    "df_pandas['Usia'].plot(kind='bar', color='skyblue')  \n",
    "plt.title('Usia Pengguna')  \n",
    "plt.xlabel('Nama')  \n",
    "plt.ylabel('Usia')  \n",
    "\n",
    "# Plot pekerjaan  \n",
    "plt.subplot(1, 2, 2)  # 1 row, 2 columns, 2nd subplot  \n",
    "df_joined['Pekerjaan'].value_counts().plot(kind='bar', color='salmon')  \n",
    "plt.title('Jumlah Pengguna Berdasarkan Pekerjaan')  \n",
    "plt.xlabel('Pekerjaan')  \n",
    "plt.ylabel('Jumlah')  \n",
    "\n",
    "plt.tight_layout()  # Untuk mengatur layout agar tidak tumpang tindih  \n",
    "plt.show()"
   ]
  },
  {
   "cell_type": "code",
   "execution_count": 28,
   "id": "b6311004-bdc1-4bda-bb36-179446ac0b8f",
   "metadata": {},
   "outputs": [
    {
     "name": "stdout",
     "output_type": "stream",
     "text": [
      "DataFrame Gabungan:\n",
      "+------+----+---------+\n",
      "|  Nama|Usia|     Asal|\n",
      "+------+----+---------+\n",
      "|   Ali|  34|  Jakarta|\n",
      "|  Budi|  23|Pekanbaru|\n",
      "| Citra|  29| Sumedang|\n",
      "|  Dina|  45|   Banjar|\n",
      "|Noufal|  20| Magelang|\n",
      "+------+----+---------+\n",
      "\n",
      "Nilai maksimum usia: 45\n"
     ]
    }
   ],
   "source": [
    "# Import library  \n",
    "import pandas as pd  \n",
    "from pyspark.sql import SparkSession  \n",
    "\n",
    "# Membuat Spark session  \n",
    "spark = SparkSession.builder \\\n",
    "    .appName(\"Example\") \\\n",
    "    .getOrCreate()  \n",
    "\n",
    "# Data untuk DataFrame PySpark dan Pandas  \n",
    "data_combined = [(\"Ali\", 34, \"Jakarta\"),  \n",
    "                 (\"Budi\", 23, \"Pekanbaru\"),  \n",
    "                 (\"Citra\", 29, \"Sumedang\"),  \n",
    "                 (\"Dina\", 45, \"Banjar\"),  \n",
    "                 (\"Noufal\", 20, \"Magelang\")]  \n",
    "\n",
    "# Membuat DataFrame PySpark secara langsung  \n",
    "df_combined = spark.createDataFrame(data_combined, schema=[\"Nama\", \"Usia\", \"Asal\"])  \n",
    "\n",
    "# Menampilkan DataFrame hasil  \n",
    "print(\"DataFrame Gabungan:\")  \n",
    "df_combined.show()  \n",
    "\n",
    "# Menghitung nilai maksimum usia  \n",
    "max_age = df_combined.agg({\"Usia\": \"max\"}).first()[0]  \n",
    "print(f\"Nilai maksimum usia: {max_age}\")"
   ]
  },
  {
   "cell_type": "code",
   "execution_count": 31,
   "id": "004541c2-4b91-4f46-a902-f612b511ee96",
   "metadata": {},
   "outputs": [
    {
     "name": "stdout",
     "output_type": "stream",
     "text": [
      "DataFrame Gabungan:\n",
      "+------+----+---------+\n",
      "|  Nama|Usia|     Asal|\n",
      "+------+----+---------+\n",
      "|   Ali|  34|  Jakarta|\n",
      "|  Budi|  23|Pekanbaru|\n",
      "| Citra|  29| Sumedang|\n",
      "|  Dina|  45|   Banjar|\n",
      "|Noufal|  20| Magelang|\n",
      "+------+----+---------+\n",
      "\n",
      "Rata-rata usia: 30.2\n"
     ]
    }
   ],
   "source": [
    "# Import library  \n",
    "import pandas as pd  \n",
    "from pyspark.sql import SparkSession  \n",
    "\n",
    "# Membuat Spark session  \n",
    "spark = SparkSession.builder.appName(\"Example\").getOrCreate()  \n",
    "\n",
    "# Data untuk DataFrame  \n",
    "data_combined = [(\"Ali\", 34, \"Jakarta\"),  \n",
    "                 (\"Budi\", 23, \"Pekanbaru\"),  \n",
    "                 (\"Citra\", 29, \"Sumedang\"),  \n",
    "                 (\"Dina\", 45, \"Banjar\"),  \n",
    "                 (\"Noufal\", 20, \"Magelang\")]  \n",
    "\n",
    "# Membuat DataFrame Spark dari data langsung  \n",
    "df_combined = spark.createDataFrame(data_combined, schema=[\"Nama\", \"Usia\", \"Asal\"])  \n",
    "\n",
    "\n",
    "# Menampilkan DataFrame hasil  \n",
    "print(\"DataFrame Gabungan:\")  \n",
    "df_combined.show()  \n",
    "\n",
    "# Menghitung rata-rata usia  \n",
    "average_age = df_combined.agg({\"Usia\": \"avg\"}).first()[0]  \n",
    "print(f\"Rata-rata usia: {average_age}\")"
   ]
  },
  {
   "cell_type": "code",
   "execution_count": null,
   "id": "605f82ec-5eb7-4cce-b025-737f779886fb",
   "metadata": {},
   "outputs": [],
   "source": []
  }
 ],
 "metadata": {
  "kernelspec": {
   "display_name": "Python 3 (ipykernel)",
   "language": "python",
   "name": "python3"
  },
  "language_info": {
   "codemirror_mode": {
    "name": "ipython",
    "version": 3
   },
   "file_extension": ".py",
   "mimetype": "text/x-python",
   "name": "python",
   "nbconvert_exporter": "python",
   "pygments_lexer": "ipython3",
   "version": "3.11.9"
  }
 },
 "nbformat": 4,
 "nbformat_minor": 5
}
